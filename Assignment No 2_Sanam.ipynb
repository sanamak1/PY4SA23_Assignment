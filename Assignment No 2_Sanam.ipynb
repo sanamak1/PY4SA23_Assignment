{
 "cells": [
  {
   "cell_type": "markdown",
   "id": "afcaf5d1-945e-47fe-9d4c-486471f5e398",
   "metadata": {},
   "source": [
    "# Lab Assignment No 2 - Sanam\n",
    "#### 200019305\n",
    "#### https://github.com/sanamak1/Assignment_2"
   ]
  },
  {
   "cell_type": "markdown",
   "id": "6cde504c-833c-4d07-918d-23340c809892",
   "metadata": {},
   "source": [
    "Task 1: Create an If...Else statement that will test whether a number is divisible by three. \"YOUR\n",
    "VALUE is divisible by 3\" should be printed if the value is divisible by three. \"YOUR VALUE is not\n",
    "divisible by three\" should be printed if it is not divisible by three. Test the statement on a numeric\n",
    "variable. Upper case text in the print statement should be replaced with the tested number."
   ]
  },
  {
   "cell_type": "code",
   "execution_count": 15,
   "id": "3cd788c7-46c0-4d43-aff0-bdf389154684",
   "metadata": {},
   "outputs": [
    {
     "name": "stdout",
     "output_type": "stream",
     "text": [
      "9 is divisible by 3\n"
     ]
    }
   ],
   "source": [
    "if x%3 == 0:\n",
    "    print(x, 'is divisible by 3')\n",
    "else:\n",
    "    print(x, 'is not divisble by 3')\n",
    "    \n",
    "x=9"
   ]
  },
  {
   "cell_type": "markdown",
   "id": "75f1c88d-a0fa-4608-b991-2695cabe97c8",
   "metadata": {},
   "source": [
    "T2: Create an If...Else statement that will test whether a type of fruit, represented as a text string,\n",
    "is in a list of acceptable fruits (apple, orange, pear, kiwi, or strawberry). If the fruit is on the list, the\n",
    "following should be printed: \"YOUR FRUIT is acceptable.\" If not, then the following should be\n",
    "printed: \"YOUR FRUIT is not acceptable.\" Upper case text in the print statement should be replaced\n",
    "with the tested fruit."
   ]
  },
  {
   "cell_type": "code",
   "execution_count": 6,
   "id": "b6072723-c571-42e8-ac42-9b1fe615f2a3",
   "metadata": {},
   "outputs": [
    {
     "name": "stdout",
     "output_type": "stream",
     "text": [
      "lemon is not acceptable\n"
     ]
    }
   ],
   "source": [
    "FruitList = [\"apple\", \"orange\", \"pear\", \"kiwi\", \"strawberry\"]\n",
    "x = \"lemon\"\n",
    "if x in FruitList:\n",
    "    print(x, 'is acceptable')\n",
    "else:\n",
    "    print(x, 'is not acceptable')"
   ]
  },
  {
   "cell_type": "markdown",
   "id": "a2a93631-86f3-489d-9ea9-9f83c5ee9885",
   "metadata": {},
   "source": [
    "T3: Create a function to calculate the distance between two coordinates using the haversine\n",
    "formula. Write the following formula where the input parameters are a pair of coordinates as two\n",
    "lists."
   ]
  },
  {
   "cell_type": "markdown",
   "id": "ecbf0ceb-8357-4466-98c9-0006bd8cc48e",
   "metadata": {},
   "source": [
    "a = sin²(φB - φA/2) + cos φA * cos φB * sin²(λB - λA/2)\n",
    "c = 2 * atan2( √a, √(1−a) )\n",
    "d = R ⋅ c"
   ]
  },
  {
   "cell_type": "code",
   "execution_count": null,
   "id": "8a8592d5-7b5e-4ea9-92cb-573aa107fcd3",
   "metadata": {},
   "outputs": [],
   "source": [
    "coord_A = ("
   ]
  }
 ],
 "metadata": {
  "kernelspec": {
   "display_name": "Python 3 (ipykernel)",
   "language": "python",
   "name": "python3"
  },
  "language_info": {
   "codemirror_mode": {
    "name": "ipython",
    "version": 3
   },
   "file_extension": ".py",
   "mimetype": "text/x-python",
   "name": "python",
   "nbconvert_exporter": "python",
   "pygments_lexer": "ipython3",
   "version": "3.10.9"
  }
 },
 "nbformat": 4,
 "nbformat_minor": 5
}
